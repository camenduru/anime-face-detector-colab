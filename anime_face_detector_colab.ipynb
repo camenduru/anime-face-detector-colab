{
  "cells": [
    {
      "cell_type": "markdown",
      "metadata": {
        "id": "view-in-github"
      },
      "source": [
        "[![Open In Colab](https://colab.research.google.com/assets/colab-badge.svg)](https://colab.research.google.com/github/camenduru/anime-face-detector-colab/blob/main/anime_face_detector_colab.ipynb)"
      ]
    },
    {
      "cell_type": "code",
      "execution_count": null,
      "metadata": {
        "id": "NrgcDwZxgDOe"
      },
      "outputs": [],
      "source": [
        "%cd /content\n",
        "!git clone -b dev https://github.com/camenduru/anime-face-detector-hf\n",
        "\n",
        "!pip install https://github.com/camenduru/insightface-colab/releases/download/v0.1/mmcv_full-1.4.0-cp310-cp310-linux_x86_64.whl\n",
        "!pip install anime-face-detector==0.0.9 mmdet==2.19.0 mmpose==0.21.0 openmim==0.1.5 gradio==3.0.5 numpy==1.25.2 huggingface-hub==0.16.4\n",
        "\n",
        "%cd /content/anime-face-detector-hf\n",
        "!python app.py --share"
      ]
    }
  ],
  "metadata": {
    "colab": {
      "gpuType": "T4",
      "provenance": []
    },
    "kernelspec": {
      "display_name": "Python 3",
      "name": "python3"
    },
    "language_info": {
      "name": "python"
    }
  },
  "nbformat": 4,
  "nbformat_minor": 0
}
